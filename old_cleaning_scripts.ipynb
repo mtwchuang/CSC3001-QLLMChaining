{
 "cells": [
  {
   "cell_type": "code",
   "execution_count": null,
   "metadata": {},
   "outputs": [],
   "source": [
    "pip install -r requirements.txt"
   ]
  },
  {
   "cell_type": "code",
   "execution_count": null,
   "metadata": {},
   "outputs": [],
   "source": [
    "import pandas as pd"
   ]
  },
  {
   "cell_type": "code",
   "execution_count": null,
   "metadata": {},
   "outputs": [],
   "source": [
    "raw_df = pd.read_csv(\"raw_datasets/FY2023_FileA.csv\")"
   ]
  },
  {
   "cell_type": "code",
   "execution_count": null,
   "metadata": {},
   "outputs": [],
   "source": [
    "budget_df = pd.DataFrame()\n",
    "\n",
    "## Mapping columns to budget table\n",
    "column_mappings = {\n",
    "    'treasury_account_symbol':'budget_id',\n",
    "    'budget_function':'budget_function',\n",
    "    'budget_subfunction':'budget_subfunction',\n",
    "    'budget_authority_unobligated_balance_brought_forward':'prev_year_unspent',\n",
    "    'adjustments_to_unobligated_balance_brought_forward_cpe':'prev_year_adjustments',\n",
    "    'budget_authority_appropriated_amount':'reserved_amount',\n",
    "    'borrowing_authority_amount':'allowed_borrow',\n",
    "    'contract_authority_amount':'pre_setaside_promise',\n",
    "    'spending_authority_from_offsetting_collections_amount':'collected_spend',\n",
    "    'total_other_budgetary_resources_amount':'other_sources_amount',\n",
    "    'total_budgetary_resources':'yearly_spendable',\n",
    "    'obligations_incurred':'promised_spending',\n",
    "    'deobligations_or_recoveries_or_refunds_from_prior_year':'prior_year_refunds',\n",
    "    'unobligated_balance':'unpromised_balance',\n",
    "    'gross_outlay_amount':'spent_amount',\n",
    "    'status_of_budgetary_resources_total':'remaining_summary',\n",
    "    'federal_account_symbol':'agency_id',\n",
    "    'allocation_transfer_agency_identifier_code':'transfer_agency_id'\n",
    "}\n",
    "budget_df = raw_df[list(column_mappings.keys())].copy()\n",
    "budget_df.rename(columns=column_mappings, inplace=True)\n",
    "\n",
    "# Creating availablity_id attribute\n",
    "budget_df['composite_key'] = raw_df['beginning_period_of_availability'].astype(str) + '_' + raw_df['ending_period_of_availability'].astype(str)\n",
    "unique_keys = budget_df.drop_duplicates(subset=['composite_key'])['composite_key'].unique()\n",
    "key_to_id = {key: idx + 1 for idx, key in enumerate(unique_keys)}\n",
    "# Use composite key to create availablity_id key\n",
    "budget_df['availability_id'] = budget_df['composite_key'].map(key_to_id)\n",
    "# Drop composite key column\n",
    "budget_df = budget_df.drop('composite_key', axis=1)\n",
    "# Creating account_id attribute\n",
    "budget_df['account_id'] = raw_df.apply(lambda row: f\"{row['federal_account_symbol']}-{str(row['sub_account_code']).zfill(2)}\", axis=1)\n",
    "\n",
    "# Show some stats on rows outputted\n",
    "print(budget_df.count())\n",
    "\n",
    "# Save cleaned budget data into CSV\n",
    "budget_df.to_csv('datasets/FT_BUDGET_2023.csv', index=False)"
   ]
  },
  {
   "cell_type": "code",
   "execution_count": null,
   "metadata": {},
   "outputs": [],
   "source": [
    "# Agency Dataframe\n",
    "agency_df = pd.DataFrame()\n",
    "agency_df['agency_id'] = raw_df['agency_identifier_code'].copy()\n",
    "agency_df['agency_name'] = raw_df['agency_identifier_name'].copy()\n",
    "agency_df = agency_df.drop_duplicates()\n",
    "\n",
    "# Show some stats on row outputed\n",
    "print(agency_df.count())\n",
    "\n",
    "# Save cleaned agency data into CSV\n",
    "agency_df.to_csv('datasets/DT_AGENCY_2023.csv', index=False)"
   ]
  },
  {
   "cell_type": "code",
   "execution_count": null,
   "metadata": {},
   "outputs": [],
   "source": [
    "# Account Dataframe\n",
    "account_df = pd.DataFrame()\n",
    "account_df['account_id'] = raw_df['federal_account_symbol'].copy()\n",
    "account_df['account_name'] = raw_df['federal_account_name'].copy()\n",
    "account_df['main_account_num'] = raw_df['main_account_code'].copy()\n",
    "account_df['sub_account_num'] = raw_df['sub_account_code'].copy()\n",
    "# append sub_account_num to account_id to ensure it remains unique\n",
    "account_df['account_id'] = account_df.apply(lambda row: f\"{row['account_id']}-{str(row['sub_account_num']).zfill(2)}\", axis=1)\n",
    "account_df = account_df.drop_duplicates()\n",
    "\n",
    "# Show some stats on row outputed\n",
    "print(account_df.count())\n",
    "\n",
    "# Save cleaned agency data into CSV\n",
    "account_df.to_csv('datasets/DT_ACCOUNT_2023.csv',index=False)"
   ]
  },
  {
   "cell_type": "code",
   "execution_count": null,
   "metadata": {},
   "outputs": [],
   "source": [
    "# Availability Type Dataframe\n",
    "availability_type_df = pd.DataFrame()\n",
    "availability_type_df['availability_id'] = budget_df['availability_id'].copy()\n",
    "availability_type_df['availability_start'] = raw_df['beginning_period_of_availability'].copy()\n",
    "availability_type_df['availability_end'] = raw_df['ending_period_of_availability'].copy()\n",
    "\n",
    "# Drop duplicates\n",
    "availability_type_df = availability_type_df.drop_duplicates()\n",
    "\n",
    "# Show some stats on row outputed\n",
    "print(availability_type_df.count())\n",
    "\n",
    "# Save cleaned agency data into CSV\n",
    "availability_type_df.to_csv('datasets/DT_AVAILABILITY_TYPE_2023.csv',index=False)"
   ]
  }
 ],
 "metadata": {
  "kernelspec": {
   "display_name": "dependencies",
   "language": "python",
   "name": "python3"
  },
  "language_info": {
   "codemirror_mode": {
    "name": "ipython",
    "version": 3
   },
   "file_extension": ".py",
   "mimetype": "text/x-python",
   "name": "python",
   "nbconvert_exporter": "python",
   "pygments_lexer": "ipython3",
   "version": "3.9.0"
  },
  "orig_nbformat": 4
 },
 "nbformat": 4,
 "nbformat_minor": 2
}
